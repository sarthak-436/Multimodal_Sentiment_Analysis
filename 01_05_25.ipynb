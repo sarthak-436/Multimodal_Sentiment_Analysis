{
 "cells": [
  {
   "cell_type": "code",
   "execution_count": 1,
   "id": "bb6f3fb3-d69b-44af-a07e-d51d00fac931",
   "metadata": {},
   "outputs": [],
   "source": [
    "label_map = {\n",
    "    \"negative\": 0,\n",
    "    \"neutral\": 1,\n",
    "    \"positive\": 2\n",
    "}"
   ]
  },
  {
   "cell_type": "code",
   "execution_count": 4,
   "id": "1126eb48-3cac-46fe-b58d-64eb8520e0a5",
   "metadata": {},
   "outputs": [],
   "source": [
    "import os\n",
    "import torch\n",
    "from torch.utils.data import Dataset, DataLoader\n",
    "from torchvision import transforms\n",
    "from PIL import Image\n",
    "from transformers import AlbertTokenizer\n",
    "\n",
    "class MVSADataset(Dataset):\n",
    "    def __init__(self, root_dir, label_file, tokenizer_name='albert-base-v2', max_length=30, transform=None):\n",
    "        self.root_dir = root_dir\n",
    "        self.label_path = os.path.join(root_dir, label_file)\n",
    "        self.tokenizer = AlbertTokenizer.from_pretrained(tokenizer_name)\n",
    "        self.max_length = max_length\n",
    "        self.transform = transform or transforms.Compose([\n",
    "            transforms.Resize((224, 224)),\n",
    "            transforms.ToTensor(),\n",
    "            transforms.Normalize(mean=[0.485, 0.456, 0.406],\n",
    "                                 std=[0.229, 0.224, 0.225])\n",
    "        ])\n",
    "\n",
    "        self.data = []\n",
    "        with open(self.label_path, 'r', encoding='utf-8') as f:\n",
    "            next(f)  # skip header\n",
    "            for line in f:\n",
    "                line = line.strip()\n",
    "                if not line:\n",
    "                    continue\n",
    "                id_, sentiments = line.split('\\t')\n",
    "                text_sent, image_sent = sentiments.split(',')\n",
    "                img_path = os.path.join(root_dir, 'data', f'{id_}.jpg')\n",
    "                txt_path = os.path.join(root_dir, 'data', f'{id_}.txt')\n",
    "\n",
    "                if os.path.exists(img_path) and os.path.exists(txt_path):\n",
    "                    with open(txt_path, 'r', encoding='ISO-8859-1') as txt_file:\n",
    "                        text = txt_file.read().strip()\n",
    "                    self.data.append({\n",
    "                        'id': id_,\n",
    "                        'text': text,\n",
    "                        'image_path': img_path,\n",
    "                        'text_label': label_map[text_sent],\n",
    "                        'image_label': label_map[image_sent],\n",
    "                    })\n",
    "\n",
    "    def __len__(self):\n",
    "        return len(self.data)\n",
    "\n",
    "    def __getitem__(self, idx):\n",
    "        sample = self.data[idx]\n",
    "        \n",
    "        # Load and process image\n",
    "        image = Image.open(sample['image_path']).convert('RGB')\n",
    "        image = self.transform(image)\n",
    "\n",
    "        # Tokenize text\n",
    "        encoding = self.tokenizer(sample['text'],\n",
    "                                  padding='max_length',\n",
    "                                  truncation=True,\n",
    "                                  max_length=self.max_length,\n",
    "                                  return_tensors='pt')\n",
    "        \n",
    "        input_ids = encoding['input_ids'].squeeze(0)  # shape: (max_length)\n",
    "        attention_mask = encoding['attention_mask'].squeeze(0)\n",
    "\n",
    "        # Return data\n",
    "        return {\n",
    "            'image': image,  # (3, 224, 224)\n",
    "            'input_ids': input_ids,  # (30,)\n",
    "            'attention_mask': attention_mask,  # (30,)\n",
    "            'text_label': torch.tensor(sample['text_label'], dtype=torch.long),\n",
    "            'image_label': torch.tensor(sample['image_label'], dtype=torch.long),\n",
    "        }\n"
   ]
  },
  {
   "cell_type": "code",
   "execution_count": 5,
   "id": "d70dc942-7bed-4a7e-82be-c8afb0f398f1",
   "metadata": {},
   "outputs": [
    {
     "name": "stdout",
     "output_type": "stream",
     "text": [
      "torch.Size([32, 3, 224, 224])\n",
      "torch.Size([32, 30])\n",
      "torch.Size([32])\n"
     ]
    }
   ],
   "source": [
    "# Example usage\n",
    "root_dir = 'MVSA_Single'  # Change this to your actual path\n",
    "dataset = MVSADataset(root_dir=root_dir, label_file='label.txt')\n",
    "\n",
    "# Split into train/test later – for now just get DataLoader\n",
    "dataloader = DataLoader(dataset, batch_size=32, shuffle=True)\n",
    "\n",
    "# Test one batch\n",
    "batch = next(iter(dataloader))\n",
    "print(batch['image'].shape)         # [32, 3, 224, 224]\n",
    "print(batch['input_ids'].shape)     # [32, 30]\n",
    "print(batch['text_label'].shape)    # [32]"
   ]
  },
  {
   "cell_type": "markdown",
   "id": "5d720aca-d108-49a6-84f5-a4015a1f85b6",
   "metadata": {},
   "source": [
    "To split the dataset into training and validation sets, we'll follow these steps:\n",
    "\n",
    "Shuffle the dataset: This ensures that the data is randomly distributed.\n",
    "\n",
    "Split the data: We can split the dataset, for example, 80% for training and 20% for validation. This is a common practice, but you can adjust the split ratio if needed."
   ]
  },
  {
   "cell_type": "code",
   "execution_count": 7,
   "id": "ba4cea44-f1da-4cd3-a0fa-8a64f5763d29",
   "metadata": {},
   "outputs": [],
   "source": [
    "from sklearn.model_selection import train_test_split\n",
    "\n",
    "# Example usage to split dataset into training and validation sets\n",
    "def split_dataset(dataset, test_size=0.2, random_seed=42):\n",
    "    # Create a list of indices for the dataset\n",
    "    data_size = len(dataset)\n",
    "    indices = list(range(data_size))\n",
    "    \n",
    "    # Shuffle and split the dataset into train and validation\n",
    "    train_indices, val_indices = train_test_split(indices, test_size=test_size, random_state=random_seed)\n",
    "    \n",
    "    # Create DataLoader for training and validation sets\n",
    "    train_dataset = torch.utils.data.Subset(dataset, train_indices)\n",
    "    val_dataset = torch.utils.data.Subset(dataset, val_indices)\n",
    "    \n",
    "    return train_dataset, val_dataset\n",
    "\n",
    "# Split the dataset\n",
    "train_dataset, val_dataset = split_dataset(dataset)\n",
    "\n",
    "# Create DataLoader for both train and validation sets\n",
    "train_loader = DataLoader(train_dataset, batch_size=32, shuffle=True)\n",
    "val_loader = DataLoader(val_dataset, batch_size=32, shuffle=False)\n"
   ]
  },
  {
   "cell_type": "code",
   "execution_count": 8,
   "id": "ccdef9c6-f844-4dbd-8583-09054bd28ade",
   "metadata": {},
   "outputs": [
    {
     "name": "stdout",
     "output_type": "stream",
     "text": [
      "Number of training samples: 3895\n",
      "Number of validation samples: 974\n"
     ]
    }
   ],
   "source": [
    "# Print the number of items in the training and validation sets\n",
    "print(f'Number of training samples: {len(train_dataset)}')\n",
    "print(f'Number of validation samples: {len(val_dataset)}')\n"
   ]
  },
  {
   "cell_type": "markdown",
   "id": "b4e3a7e7-b83e-42e2-9231-061bbdf650df",
   "metadata": {},
   "source": [
    "Step 1: Define the Model Architecture\n",
    "We will build the model in two parts:\n",
    "\n",
    "Text Encoder (Transformer-based): We will use a transformer model (like BERT or ALBERT) to process the text data. It will output hidden states that represent the textual information.\n",
    "\n",
    "Image Encoder (CNN-based): We will use a pre-trained ResNet (like ResNet-50) to process the image data. The CNN will output feature vectors for the image.\n",
    "\n",
    "Fusion Layer: We will combine the output from both the text and image encoders.\n",
    "\n",
    "Prediction Layer: Finally, we will pass the combined features through a fully connected layer to predict the sentiment labels.\n",
    "\n",
    "Let us break down each component:\n",
    "\n",
    "Text Encoder (using ALBERT):\n",
    "\n",
    "We will use the AlbertModel from the Hugging Face Transformers library.\n",
    "\n",
    "Image Encoder (using ResNet):\n",
    "\n",
    "We can use ResNet50 from PyTorch torchvision.models and remove the final classification layer to get the image features.\n",
    "\n",
    "Fusion Layer:\n",
    "\n",
    "We will concatenate the output from both encoders and use a fully connected layer to combine the information.\n",
    "\n",
    "Final Prediction Layer:\n",
    "\n",
    "A final fully connected layer to output the predicted sentiment classes.\n",
    "\n",
    "Here is the code outline to define this architecture:"
   ]
  },
  {
   "cell_type": "markdown",
   "id": "b449d4b5-1a2f-49a4-81fc-73c0d2209302",
   "metadata": {},
   "source": [
    "import torch\n",
    "import torch.nn as nn\n",
    "from transformers import AlbertModel, AlbertTokenizer\n",
    "from torchvision import models\n",
    "\n",
    "class MultimodalModel(nn.Module):\n",
    "    def __init__(self, hidden_size=768, num_classes=3):\n",
    "        super(MultimodalModel, self).__init__()\n",
    "\n",
    "        # Text Encoder (ALBERT)\n",
    "        self.text_encoder = AlbertModel.from_pretrained('albert-base-v2')\n",
    "        \n",
    "        # Image Encoder (ResNet50)\n",
    "        resnet = models.resnet50(pretrained=True)\n",
    "        self.image_encoder = nn.Sequential(*list(resnet.children())[:-1])  # Remove the final classification layer\n",
    "        \n",
    "        # Fully connected layers for fusion and prediction\n",
    "        self.fc1 = nn.Linear(hidden_size + 2048, 1024)  # 2048 is the output size of ResNet50\n",
    "        self.fc2 = nn.Linear(1024, num_classes)\n",
    "        \n",
    "        self.dropout = nn.Dropout(0.5)\n",
    "\n",
    "    def forward(self, input_ids, attention_mask, images):\n",
    "        # Process text through ALBERT\n",
    "        text_features = self.text_encoder(input_ids=input_ids, attention_mask=attention_mask)\n",
    "        text_embedding = text_features.last_hidden_state.mean(dim=1)  # Taking the mean of token embeddings\n",
    "        \n",
    "        # Process image through ResNet50\n",
    "        image_features = self.image_encoder(images)\n",
    "        image_features = image_features.view(image_features.size(0), -1)  # Flatten the features\n",
    "\n",
    "        # Concatenate text and image features\n",
    "        combined_features = torch.cat((text_embedding, image_features), dim=1)\n",
    "        \n",
    "        # Feed the concatenated features through fully connected layers\n",
    "        x = self.fc1(combined_features)\n",
    "        x = torch.relu(x)\n",
    "        x = self.dropout(x)\n",
    "        output = self.fc2(x)\n",
    "        \n",
    "        return output\n"
   ]
  },
  {
   "cell_type": "code",
   "execution_count": 13,
   "id": "5da66665-986f-485f-a962-76868165d5c5",
   "metadata": {},
   "outputs": [],
   "source": [
    "from transformers import AlbertModel, AlbertTokenizer\n",
    "import torch\n",
    "\n",
    "class TextEncoder(nn.Module):\n",
    "    def __init__(self, model_name='albert-base-v2'):\n",
    "        super(TextEncoder, self).__init__()\n",
    "        self.tokenizer = AlbertTokenizer.from_pretrained(model_name)\n",
    "        self.model = AlbertModel.from_pretrained(model_name)\n",
    "\n",
    "    def forward(self, input_ids, attention_mask):\n",
    "        outputs = self.model(input_ids=input_ids, attention_mask=attention_mask)\n",
    "        last_hidden_state = outputs.last_hidden_state  # (batch_size, seq_len, hidden_size)\n",
    "        # Take the mean of all tokens' embeddings for each input sentence\n",
    "        sentence_embedding = torch.mean(last_hidden_state, dim=1)\n",
    "        return sentence_embedding\n"
   ]
  },
  {
   "cell_type": "code",
   "execution_count": 14,
   "id": "c17a9b53-c2fb-433b-aff2-94045946c408",
   "metadata": {},
   "outputs": [],
   "source": [
    "import torchvision.models as models\n",
    "import torch.nn as nn\n",
    "\n",
    "class ImageEncoder(nn.Module):\n",
    "    def __init__(self):\n",
    "        super(ImageEncoder, self).__init__()\n",
    "        resnet = models.resnet50(pretrained=True)\n",
    "        # Remove the final classification layer (fc layer)\n",
    "        self.resnet = nn.Sequential(*list(resnet.children())[:-1])  # ResNet50 without the fc layer\n",
    "\n",
    "    def forward(self, images):\n",
    "        features = self.resnet(images)  # (batch_size, 2048, 1, 1)\n",
    "        features = features.view(features.size(0), -1)  # Flatten to (batch_size, 2048)\n",
    "        return features\n"
   ]
  },
  {
   "cell_type": "code",
   "execution_count": 15,
   "id": "d5e0ebd3-58d0-46c4-9007-fe0e263f72a5",
   "metadata": {},
   "outputs": [],
   "source": [
    "class MultimodalFusionModel(nn.Module):\n",
    "    def __init__(self, text_encoder, image_encoder, hidden_size=768, num_classes=3):\n",
    "        super(MultimodalFusionModel, self).__init__()\n",
    "        self.text_encoder = text_encoder\n",
    "        self.image_encoder = image_encoder\n",
    "\n",
    "        # Fully connected layers for fusion and prediction\n",
    "        self.fc1 = nn.Linear(hidden_size + 2048, 1024)  # 2048 is the size of ResNet features\n",
    "        self.fc2 = nn.Linear(1024, num_classes)\n",
    "        self.dropout = nn.Dropout(0.5)\n",
    "\n",
    "    def forward(self, input_ids, attention_mask, images):\n",
    "        # Process text through the text encoder\n",
    "        text_features = self.text_encoder(input_ids, attention_mask)\n",
    "        \n",
    "        # Process image through the image encoder\n",
    "        image_features = self.image_encoder(images)\n",
    "        \n",
    "        # Concatenate text and image features\n",
    "        combined_features = torch.cat((text_features, image_features), dim=1)\n",
    "        \n",
    "        # Feed the combined features through fully connected layers\n",
    "        x = self.fc1(combined_features)\n",
    "        x = torch.relu(x)\n",
    "        x = self.dropout(x)\n",
    "        output = self.fc2(x)  # Final output (classification layer)\n",
    "        \n",
    "        return output\n"
   ]
  },
  {
   "cell_type": "code",
   "execution_count": 16,
   "id": "9da74d21-dbf8-46d2-9eb8-e24fc9f4c0e6",
   "metadata": {},
   "outputs": [
    {
     "name": "stderr",
     "output_type": "stream",
     "text": [
      "Xet Storage is enabled for this repo, but the 'hf_xet' package is not installed. Falling back to regular HTTP download. For better performance, install the package with: `pip install huggingface_hub[hf_xet]` or `pip install hf_xet`\n"
     ]
    },
    {
     "data": {
      "application/vnd.jupyter.widget-view+json": {
       "model_id": "383f641d23fc44bb8816557600221c54",
       "version_major": 2,
       "version_minor": 0
      },
      "text/plain": [
       "model.safetensors:   0%|          | 0.00/47.4M [00:00<?, ?B/s]"
      ]
     },
     "metadata": {},
     "output_type": "display_data"
    },
    {
     "name": "stderr",
     "output_type": "stream",
     "text": [
      "C:\\Users\\SARTHAK KHANDELWAL\\AppData\\Local\\Programs\\Python\\Python311\\Lib\\site-packages\\torchvision\\models\\_utils.py:208: UserWarning: The parameter 'pretrained' is deprecated since 0.13 and may be removed in the future, please use 'weights' instead.\n",
      "  warnings.warn(\n",
      "C:\\Users\\SARTHAK KHANDELWAL\\AppData\\Local\\Programs\\Python\\Python311\\Lib\\site-packages\\torchvision\\models\\_utils.py:223: UserWarning: Arguments other than a weight enum or `None` for 'weights' are deprecated since 0.13 and may be removed in the future. The current behavior is equivalent to passing `weights=ResNet50_Weights.IMAGENET1K_V1`. You can also use `weights=ResNet50_Weights.DEFAULT` to get the most up-to-date weights.\n",
      "  warnings.warn(msg)\n"
     ]
    },
    {
     "name": "stdout",
     "output_type": "stream",
     "text": [
      "Downloading: \"https://download.pytorch.org/models/resnet50-0676ba61.pth\" to C:\\Users\\SARTHAK KHANDELWAL/.cache\\torch\\hub\\checkpoints\\resnet50-0676ba61.pth\n"
     ]
    },
    {
     "name": "stderr",
     "output_type": "stream",
     "text": [
      "100%|█████████████████████████████████████████████████████████████████████████████| 97.8M/97.8M [00:18<00:00, 5.55MB/s]\n"
     ]
    }
   ],
   "source": [
    "import torch.optim as optim\n",
    "import torch.nn as nn\n",
    "\n",
    "# Define the model\n",
    "text_encoder = TextEncoder(model_name='albert-base-v2')\n",
    "image_encoder = ImageEncoder()\n",
    "\n",
    "model = MultimodalFusionModel(text_encoder=text_encoder, image_encoder=image_encoder, hidden_size=768, num_classes=3)\n",
    "\n",
    "# Loss function (Cross Entropy)\n",
    "criterion = nn.CrossEntropyLoss()\n",
    "\n",
    "# Optimizer (Adam)\n",
    "optimizer = optim.Adam(model.parameters(), lr=1e-5)\n"
   ]
  },
  {
   "cell_type": "code",
   "execution_count": 24,
   "id": "f05bdc22-3cd4-442e-8430-0cae96fcec63",
   "metadata": {},
   "outputs": [],
   "source": [
    "def train_model(model, train_loader, criterion, optimizer, device):\n",
    "    model.train()  # Set the model to training mode\n",
    "    running_loss = 0.0\n",
    "    correct_predictions = 0\n",
    "    total_predictions = 0\n",
    "\n",
    "    for batch_idx, batch in enumerate(train_loader):\n",
    "        # Get inputs and labels\n",
    "        input_ids = batch['input_ids'].to(device)\n",
    "        attention_mask = batch['attention_mask'].to(device)\n",
    "        images = batch['image'].to(device)  # Use 'image' instead of 'images'\n",
    "        text_labels = batch['text_label'].to(device)\n",
    "        image_labels = batch['image_label'].to(device)\n",
    "\n",
    "        # Zero the gradients\n",
    "        optimizer.zero_grad()\n",
    "\n",
    "        # Forward pass\n",
    "        outputs = model(input_ids, attention_mask, images)\n",
    "        \n",
    "        # Calculate the loss\n",
    "        loss = criterion(outputs, text_labels)  # You may adjust this depending on your task\n",
    "\n",
    "        # Backward pass\n",
    "        loss.backward()\n",
    "        optimizer.step()\n",
    "\n",
    "        # Update running loss\n",
    "        running_loss += loss.item()\n",
    "\n",
    "        # Calculate accuracy\n",
    "        _, predicted = torch.max(outputs, 1)\n",
    "        correct_predictions += (predicted == text_labels).sum().item()  # Assuming text sentiment is the target\n",
    "        total_predictions += text_labels.size(0)\n",
    "\n",
    "        # Optionally print loss and accuracy at intervals\n",
    "        if (batch_idx + 1) % 10 == 0:  # Print every 10 batches\n",
    "            print(f\"Batch [{batch_idx+1}/{len(train_loader)}], Loss: {loss.item():.4f}\")\n",
    "\n",
    "    epoch_loss = running_loss / len(train_loader)\n",
    "    epoch_accuracy = correct_predictions / total_predictions * 100\n",
    "    return epoch_loss, epoch_accuracy\n"
   ]
  },
  {
   "cell_type": "code",
   "execution_count": 27,
   "id": "1a7a3c5f-602e-4f1e-8065-37478ea04b2f",
   "metadata": {},
   "outputs": [],
   "source": [
    "def validate_model(model, val_loader, criterion, device):\n",
    "    model.eval()  # Set the model to evaluation mode\n",
    "    running_loss = 0.0\n",
    "    correct_predictions = 0\n",
    "    total_predictions = 0\n",
    "\n",
    "    with torch.no_grad():  # Disable gradient calculation during validation\n",
    "        for batch_idx, batch in enumerate(val_loader):\n",
    "            # Get inputs and labels\n",
    "            input_ids = batch['input_ids'].to(device)\n",
    "            attention_mask = batch['attention_mask'].to(device)\n",
    "            images = batch['image'].to(device)  # Use 'image' instead of 'images'\n",
    "            text_labels = batch['text_label'].to(device)\n",
    "            image_labels = batch['image_label'].to(device)\n",
    "\n",
    "            # Forward pass\n",
    "            outputs = model(input_ids, attention_mask, images)\n",
    "\n",
    "            # Calculate the loss\n",
    "            loss = criterion(outputs, text_labels)  # You may adjust this depending on your task\n",
    "\n",
    "            # Update running loss\n",
    "            running_loss += loss.item()\n",
    "\n",
    "            # Calculate accuracy\n",
    "            _, predicted = torch.max(outputs, 1)\n",
    "            correct_predictions += (predicted == text_labels).sum().item()  # Assuming text sentiment is the target\n",
    "            total_predictions += text_labels.size(0)\n",
    "\n",
    "    epoch_loss = running_loss / len(val_loader)\n",
    "    epoch_accuracy = correct_predictions / total_predictions * 100\n",
    "    return epoch_loss, epoch_accuracy\n"
   ]
  },
  {
   "cell_type": "code",
   "execution_count": 28,
   "id": "7c5f723c-1b4d-436a-924f-0dc84c8eb6a1",
   "metadata": {},
   "outputs": [
    {
     "name": "stdout",
     "output_type": "stream",
     "text": [
      "Epoch 1/10\n",
      "Batch [10/122], Loss: 0.9939\n",
      "Batch [20/122], Loss: 1.1470\n",
      "Batch [30/122], Loss: 1.0683\n",
      "Batch [40/122], Loss: 0.8694\n",
      "Batch [50/122], Loss: 0.9890\n",
      "Batch [60/122], Loss: 0.9181\n",
      "Batch [70/122], Loss: 0.7898\n",
      "Batch [80/122], Loss: 0.8475\n"
     ]
    },
    {
     "ename": "KeyboardInterrupt",
     "evalue": "",
     "output_type": "error",
     "traceback": [
      "\u001b[1;31m---------------------------------------------------------------------------\u001b[0m",
      "\u001b[1;31mKeyboardInterrupt\u001b[0m                         Traceback (most recent call last)",
      "Cell \u001b[1;32mIn[28], line 8\u001b[0m\n\u001b[0;32m      5\u001b[0m \u001b[38;5;28mprint\u001b[39m(\u001b[38;5;124mf\u001b[39m\u001b[38;5;124m\"\u001b[39m\u001b[38;5;124mEpoch \u001b[39m\u001b[38;5;132;01m{\u001b[39;00mepoch\u001b[38;5;241m+\u001b[39m\u001b[38;5;241m1\u001b[39m\u001b[38;5;132;01m}\u001b[39;00m\u001b[38;5;124m/\u001b[39m\u001b[38;5;132;01m{\u001b[39;00mnum_epochs\u001b[38;5;132;01m}\u001b[39;00m\u001b[38;5;124m\"\u001b[39m)\n\u001b[0;32m      7\u001b[0m \u001b[38;5;66;03m# Training phase\u001b[39;00m\n\u001b[1;32m----> 8\u001b[0m train_loss, train_accuracy \u001b[38;5;241m=\u001b[39m \u001b[43mtrain_model\u001b[49m\u001b[43m(\u001b[49m\u001b[43mmodel\u001b[49m\u001b[43m,\u001b[49m\u001b[43m \u001b[49m\u001b[43mtrain_loader\u001b[49m\u001b[43m,\u001b[49m\u001b[43m \u001b[49m\u001b[43mcriterion\u001b[49m\u001b[43m,\u001b[49m\u001b[43m \u001b[49m\u001b[43moptimizer\u001b[49m\u001b[43m,\u001b[49m\u001b[43m \u001b[49m\u001b[43mdevice\u001b[49m\u001b[43m)\u001b[49m\n\u001b[0;32m      9\u001b[0m \u001b[38;5;28mprint\u001b[39m(\u001b[38;5;124mf\u001b[39m\u001b[38;5;124m\"\u001b[39m\u001b[38;5;124mTrain Loss: \u001b[39m\u001b[38;5;132;01m{\u001b[39;00mtrain_loss\u001b[38;5;132;01m:\u001b[39;00m\u001b[38;5;124m.4f\u001b[39m\u001b[38;5;132;01m}\u001b[39;00m\u001b[38;5;124m, Train Accuracy: \u001b[39m\u001b[38;5;132;01m{\u001b[39;00mtrain_accuracy\u001b[38;5;132;01m:\u001b[39;00m\u001b[38;5;124m.2f\u001b[39m\u001b[38;5;132;01m}\u001b[39;00m\u001b[38;5;124m%\u001b[39m\u001b[38;5;124m\"\u001b[39m)\n\u001b[0;32m     11\u001b[0m \u001b[38;5;66;03m# Validation phase\u001b[39;00m\n",
      "Cell \u001b[1;32mIn[24], line 25\u001b[0m, in \u001b[0;36mtrain_model\u001b[1;34m(model, train_loader, criterion, optimizer, device)\u001b[0m\n\u001b[0;32m     22\u001b[0m loss \u001b[38;5;241m=\u001b[39m criterion(outputs, text_labels)  \u001b[38;5;66;03m# You may adjust this depending on your task\u001b[39;00m\n\u001b[0;32m     24\u001b[0m \u001b[38;5;66;03m# Backward pass\u001b[39;00m\n\u001b[1;32m---> 25\u001b[0m \u001b[43mloss\u001b[49m\u001b[38;5;241;43m.\u001b[39;49m\u001b[43mbackward\u001b[49m\u001b[43m(\u001b[49m\u001b[43m)\u001b[49m\n\u001b[0;32m     26\u001b[0m optimizer\u001b[38;5;241m.\u001b[39mstep()\n\u001b[0;32m     28\u001b[0m \u001b[38;5;66;03m# Update running loss\u001b[39;00m\n",
      "File \u001b[1;32m~\\AppData\\Local\\Programs\\Python\\Python311\\Lib\\site-packages\\torch\\_tensor.py:648\u001b[0m, in \u001b[0;36mTensor.backward\u001b[1;34m(self, gradient, retain_graph, create_graph, inputs)\u001b[0m\n\u001b[0;32m    638\u001b[0m \u001b[38;5;28;01mif\u001b[39;00m has_torch_function_unary(\u001b[38;5;28mself\u001b[39m):\n\u001b[0;32m    639\u001b[0m     \u001b[38;5;28;01mreturn\u001b[39;00m handle_torch_function(\n\u001b[0;32m    640\u001b[0m         Tensor\u001b[38;5;241m.\u001b[39mbackward,\n\u001b[0;32m    641\u001b[0m         (\u001b[38;5;28mself\u001b[39m,),\n\u001b[1;32m   (...)\u001b[0m\n\u001b[0;32m    646\u001b[0m         inputs\u001b[38;5;241m=\u001b[39minputs,\n\u001b[0;32m    647\u001b[0m     )\n\u001b[1;32m--> 648\u001b[0m \u001b[43mtorch\u001b[49m\u001b[38;5;241;43m.\u001b[39;49m\u001b[43mautograd\u001b[49m\u001b[38;5;241;43m.\u001b[39;49m\u001b[43mbackward\u001b[49m\u001b[43m(\u001b[49m\n\u001b[0;32m    649\u001b[0m \u001b[43m    \u001b[49m\u001b[38;5;28;43mself\u001b[39;49m\u001b[43m,\u001b[49m\u001b[43m \u001b[49m\u001b[43mgradient\u001b[49m\u001b[43m,\u001b[49m\u001b[43m \u001b[49m\u001b[43mretain_graph\u001b[49m\u001b[43m,\u001b[49m\u001b[43m \u001b[49m\u001b[43mcreate_graph\u001b[49m\u001b[43m,\u001b[49m\u001b[43m \u001b[49m\u001b[43minputs\u001b[49m\u001b[38;5;241;43m=\u001b[39;49m\u001b[43minputs\u001b[49m\n\u001b[0;32m    650\u001b[0m \u001b[43m\u001b[49m\u001b[43m)\u001b[49m\n",
      "File \u001b[1;32m~\\AppData\\Local\\Programs\\Python\\Python311\\Lib\\site-packages\\torch\\autograd\\__init__.py:353\u001b[0m, in \u001b[0;36mbackward\u001b[1;34m(tensors, grad_tensors, retain_graph, create_graph, grad_variables, inputs)\u001b[0m\n\u001b[0;32m    348\u001b[0m     retain_graph \u001b[38;5;241m=\u001b[39m create_graph\n\u001b[0;32m    350\u001b[0m \u001b[38;5;66;03m# The reason we repeat the same comment below is that\u001b[39;00m\n\u001b[0;32m    351\u001b[0m \u001b[38;5;66;03m# some Python versions print out the first line of a multi-line function\u001b[39;00m\n\u001b[0;32m    352\u001b[0m \u001b[38;5;66;03m# calls in the traceback and some print out the last line\u001b[39;00m\n\u001b[1;32m--> 353\u001b[0m \u001b[43m_engine_run_backward\u001b[49m\u001b[43m(\u001b[49m\n\u001b[0;32m    354\u001b[0m \u001b[43m    \u001b[49m\u001b[43mtensors\u001b[49m\u001b[43m,\u001b[49m\n\u001b[0;32m    355\u001b[0m \u001b[43m    \u001b[49m\u001b[43mgrad_tensors_\u001b[49m\u001b[43m,\u001b[49m\n\u001b[0;32m    356\u001b[0m \u001b[43m    \u001b[49m\u001b[43mretain_graph\u001b[49m\u001b[43m,\u001b[49m\n\u001b[0;32m    357\u001b[0m \u001b[43m    \u001b[49m\u001b[43mcreate_graph\u001b[49m\u001b[43m,\u001b[49m\n\u001b[0;32m    358\u001b[0m \u001b[43m    \u001b[49m\u001b[43minputs\u001b[49m\u001b[43m,\u001b[49m\n\u001b[0;32m    359\u001b[0m \u001b[43m    \u001b[49m\u001b[43mallow_unreachable\u001b[49m\u001b[38;5;241;43m=\u001b[39;49m\u001b[38;5;28;43;01mTrue\u001b[39;49;00m\u001b[43m,\u001b[49m\n\u001b[0;32m    360\u001b[0m \u001b[43m    \u001b[49m\u001b[43maccumulate_grad\u001b[49m\u001b[38;5;241;43m=\u001b[39;49m\u001b[38;5;28;43;01mTrue\u001b[39;49;00m\u001b[43m,\u001b[49m\n\u001b[0;32m    361\u001b[0m \u001b[43m\u001b[49m\u001b[43m)\u001b[49m\n",
      "File \u001b[1;32m~\\AppData\\Local\\Programs\\Python\\Python311\\Lib\\site-packages\\torch\\autograd\\graph.py:824\u001b[0m, in \u001b[0;36m_engine_run_backward\u001b[1;34m(t_outputs, *args, **kwargs)\u001b[0m\n\u001b[0;32m    822\u001b[0m     unregister_hooks \u001b[38;5;241m=\u001b[39m _register_logging_hooks_on_whole_graph(t_outputs)\n\u001b[0;32m    823\u001b[0m \u001b[38;5;28;01mtry\u001b[39;00m:\n\u001b[1;32m--> 824\u001b[0m     \u001b[38;5;28;01mreturn\u001b[39;00m \u001b[43mVariable\u001b[49m\u001b[38;5;241;43m.\u001b[39;49m\u001b[43m_execution_engine\u001b[49m\u001b[38;5;241;43m.\u001b[39;49m\u001b[43mrun_backward\u001b[49m\u001b[43m(\u001b[49m\u001b[43m  \u001b[49m\u001b[38;5;66;43;03m# Calls into the C++ engine to run the backward pass\u001b[39;49;00m\n\u001b[0;32m    825\u001b[0m \u001b[43m        \u001b[49m\u001b[43mt_outputs\u001b[49m\u001b[43m,\u001b[49m\u001b[43m \u001b[49m\u001b[38;5;241;43m*\u001b[39;49m\u001b[43margs\u001b[49m\u001b[43m,\u001b[49m\u001b[43m \u001b[49m\u001b[38;5;241;43m*\u001b[39;49m\u001b[38;5;241;43m*\u001b[39;49m\u001b[43mkwargs\u001b[49m\n\u001b[0;32m    826\u001b[0m \u001b[43m    \u001b[49m\u001b[43m)\u001b[49m  \u001b[38;5;66;03m# Calls into the C++ engine to run the backward pass\u001b[39;00m\n\u001b[0;32m    827\u001b[0m \u001b[38;5;28;01mfinally\u001b[39;00m:\n\u001b[0;32m    828\u001b[0m     \u001b[38;5;28;01mif\u001b[39;00m attach_logging_hooks:\n",
      "\u001b[1;31mKeyboardInterrupt\u001b[0m: "
     ]
    }
   ],
   "source": [
    "device = torch.device(\"cuda\" if torch.cuda.is_available() else \"cpu\")\n",
    "num_epochs = 10  # Adjust as needed\n",
    "\n",
    "for epoch in range(num_epochs):\n",
    "    print(f\"Epoch {epoch+1}/{num_epochs}\")\n",
    "    \n",
    "    # Training phase\n",
    "    train_loss, train_accuracy = train_model(model, train_loader, criterion, optimizer, device)\n",
    "    print(f\"Train Loss: {train_loss:.4f}, Train Accuracy: {train_accuracy:.2f}%\")\n",
    "    \n",
    "    # Validation phase\n",
    "    val_loss, val_accuracy = validate_model(model, val_loader, criterion, device)\n",
    "    print(f\"Validation Loss: {val_loss:.4f}, Validation Accuracy: {val_accuracy:.2f}%\")\n",
    "\n",
    "    print(\"-\" * 50)"
   ]
  },
  {
   "cell_type": "code",
   "execution_count": null,
   "id": "1a9fd16a-3df7-4083-ad3a-96f5805e477a",
   "metadata": {},
   "outputs": [],
   "source": []
  }
 ],
 "metadata": {
  "kernelspec": {
   "display_name": "Python 3 (ipykernel)",
   "language": "python",
   "name": "python3"
  },
  "language_info": {
   "codemirror_mode": {
    "name": "ipython",
    "version": 3
   },
   "file_extension": ".py",
   "mimetype": "text/x-python",
   "name": "python",
   "nbconvert_exporter": "python",
   "pygments_lexer": "ipython3",
   "version": "3.11.4"
  }
 },
 "nbformat": 4,
 "nbformat_minor": 5
}
